{
 "cells": [
  {
   "cell_type": "code",
   "execution_count": 1,
   "metadata": {},
   "outputs": [],
   "source": [
    "import requests\n",
    "import json\n",
    "import time\n",
    "\n",
    "# 官方文档地址\n",
    "# https://doc2.bitbrowser.cn/jiekou/ben-di-fu-wu-zhi-nan.html\n",
    "\n",
    "# 此demo仅作为参考使用，以下使用的指纹参数仅是部分参数，完整参数请参考文档\n",
    "\n",
    "url = \"http://127.0.0.1:54345\"\n",
    "headers = {'Content-Type': 'application/json'}\n",
    "\n",
    "\n",
    "def createBrowser():  # 创建或者更新窗口，指纹参数 browserFingerPrint 如没有特定需求，只需要指定下内核即可，如果需要更详细的参数，请参考文档\n",
    "    json_data = {\n",
    "        'name': 'google',  # 窗口名称\n",
    "        'remark': '',  # 备注\n",
    "        'proxyMethod': 2,  # 代理方式 2自定义 3 提取IP\n",
    "        # 代理类型  ['noproxy', 'http', 'https', 'socks5', 'ssh']\n",
    "        'proxyType': 'noproxy',\n",
    "        'host': '',  # 代理主机\n",
    "        'port': '',  # 代理端口\n",
    "        'proxyUserName': '',  # 代理账号\n",
    "        \"browserFingerPrint\": {  # 指纹对象\n",
    "            'coreVersion': '112'  # 内核版本 112 | 104，建议使用112，注意，win7/win8/winserver 2012 已经不支持112内核了，无法打开\n",
    "        }\n",
    "    }\n",
    "\n",
    "    res = requests.post(f\"{url}/browser/update\",\n",
    "                        data=json.dumps(json_data), headers=headers).json()\n",
    "    browserId = res['data']['id']\n",
    "    print(browserId)\n",
    "    return browserId\n",
    "\n",
    "\n",
    "def updateBrowser():  # 更新窗口，支持批量更新和按需更新，ids 传入数组，单独更新只传一个id即可，只传入需要修改的字段即可，比如修改备注，具体字段请参考文档，browserFingerPrint指纹对象不修改，则无需传入\n",
    "    json_data = {'ids': ['93672cf112a044f08b653cab691216f0'],\n",
    "                 'remark': '我是一个备注', 'browserFingerPrint': {}}\n",
    "    res = requests.post(f\"{url}/browser/update/partial\",\n",
    "                        data=json.dumps(json_data), headers=headers).json()\n",
    "    print(res)\n",
    "\n",
    "\n",
    "def openBrowser(id):  # 直接指定ID打开窗口，也可以使用 createBrowser 方法返回的ID\n",
    "    json_data = {\"id\": f'{id}'}\n",
    "    res = requests.post(f\"{url}/browser/open\",\n",
    "                        data=json.dumps(json_data), headers=headers).json()\n",
    "    print(res)\n",
    "    print(res['data']['http'])\n",
    "    return res\n",
    "\n",
    "\n",
    "def closeBrowser(id):  # 关闭窗口\n",
    "    json_data = {'id': f'{id}'}\n",
    "    requests.post(f\"{url}/browser/close\",\n",
    "                  data=json.dumps(json_data), headers=headers).json()\n",
    "\n",
    "\n",
    "def deleteBrowser(id):  # 删除窗口\n",
    "    json_data = {'id': f'{id}'}\n",
    "    print(requests.post(f\"{url}/browser/delete\",\n",
    "          data=json.dumps(json_data), headers=headers).json())\n"
   ]
  },
  {
   "cell_type": "code",
   "execution_count": 2,
   "metadata": {},
   "outputs": [
    {
     "name": "stdout",
     "output_type": "stream",
     "text": [
      "6a84de866bea4190bf4c1c7f02a8d584\n",
      "{'success': True, 'data': {'ws': 'ws://127.0.0.1:9036/devtools/browser/3adb7415-47c9-4b5e-b1d1-6456fa2858c9', 'http': '127.0.0.1:9036', 'coreVersion': '112', 'driver': 'C:\\\\Users\\\\yuzhe\\\\AppData\\\\Roaming\\\\BitBrowser\\\\chromedriver\\\\112\\\\chromedriver.exe', 'seq': 13, 'name': 'google', 'remark': '', 'pid': 27168}}\n",
      "127.0.0.1:9036\n"
     ]
    }
   ],
   "source": [
    "browser_id = createBrowser()\n",
    "openBrowser(browser_id)\n",
    "time.sleep(1)"
   ]
  },
  {
   "cell_type": "code",
   "execution_count": 4,
   "metadata": {},
   "outputs": [
    {
     "name": "stdout",
     "output_type": "stream",
     "text": [
      "{'success': False, 'msg': '服务调用成功,但没有找到相应数据！'}\n"
     ]
    },
    {
     "ename": "KeyError",
     "evalue": "'data'",
     "output_type": "error",
     "traceback": [
      "\u001b[1;31m---------------------------------------------------------------------------\u001b[0m",
      "\u001b[1;31mKeyError\u001b[0m                                  Traceback (most recent call last)",
      "\u001b[1;32m<ipython-input-4-89eff3c9f353>\u001b[0m in \u001b[0;36m<module>\u001b[1;34m\u001b[0m\n\u001b[0;32m     12\u001b[0m \u001b[1;31m# /browser/open 接口会返回 selenium使用的http地址，以及webdriver的path，直接使用即可\u001b[0m\u001b[1;33m\u001b[0m\u001b[1;33m\u001b[0m\u001b[1;33m\u001b[0m\u001b[0m\n\u001b[0;32m     13\u001b[0m \u001b[0mid\u001b[0m \u001b[1;33m=\u001b[0m \u001b[1;34m'2395deaf0bc246808e73be20c0bb650b'\u001b[0m\u001b[1;33m\u001b[0m\u001b[1;33m\u001b[0m\u001b[0m\n\u001b[1;32m---> 14\u001b[1;33m \u001b[0mres\u001b[0m \u001b[1;33m=\u001b[0m \u001b[0mopenBrowser\u001b[0m\u001b[1;33m(\u001b[0m\u001b[1;34mf\"{id}\"\u001b[0m\u001b[1;33m)\u001b[0m\u001b[1;33m\u001b[0m\u001b[1;33m\u001b[0m\u001b[0m\n\u001b[0m\u001b[0;32m     15\u001b[0m \u001b[0mdriverPath\u001b[0m \u001b[1;33m=\u001b[0m \u001b[0mres\u001b[0m\u001b[1;33m[\u001b[0m\u001b[1;34m'data'\u001b[0m\u001b[1;33m]\u001b[0m\u001b[1;33m[\u001b[0m\u001b[1;34m'driver'\u001b[0m\u001b[1;33m]\u001b[0m\u001b[1;33m\u001b[0m\u001b[1;33m\u001b[0m\u001b[0m\n\u001b[0;32m     16\u001b[0m \u001b[0mdebuggerAddress\u001b[0m \u001b[1;33m=\u001b[0m \u001b[0mres\u001b[0m\u001b[1;33m[\u001b[0m\u001b[1;34m'data'\u001b[0m\u001b[1;33m]\u001b[0m\u001b[1;33m[\u001b[0m\u001b[1;34m'http'\u001b[0m\u001b[1;33m]\u001b[0m\u001b[1;33m\u001b[0m\u001b[1;33m\u001b[0m\u001b[0m\n",
      "\u001b[1;32md:\\WSL-Share\\apps\\python-demo\\bit_api.py\u001b[0m in \u001b[0;36mopenBrowser\u001b[1;34m(id)\u001b[0m\n\u001b[0;32m     47\u001b[0m                         data=json.dumps(json_data), headers=headers).json()\n\u001b[0;32m     48\u001b[0m     \u001b[0mprint\u001b[0m\u001b[1;33m(\u001b[0m\u001b[0mres\u001b[0m\u001b[1;33m)\u001b[0m\u001b[1;33m\u001b[0m\u001b[1;33m\u001b[0m\u001b[0m\n\u001b[1;32m---> 49\u001b[1;33m     \u001b[0mprint\u001b[0m\u001b[1;33m(\u001b[0m\u001b[0mres\u001b[0m\u001b[1;33m[\u001b[0m\u001b[1;34m'data'\u001b[0m\u001b[1;33m]\u001b[0m\u001b[1;33m[\u001b[0m\u001b[1;34m'http'\u001b[0m\u001b[1;33m]\u001b[0m\u001b[1;33m)\u001b[0m\u001b[1;33m\u001b[0m\u001b[1;33m\u001b[0m\u001b[0m\n\u001b[0m\u001b[0;32m     50\u001b[0m     \u001b[1;32mreturn\u001b[0m \u001b[0mres\u001b[0m\u001b[1;33m\u001b[0m\u001b[1;33m\u001b[0m\u001b[0m\n\u001b[0;32m     51\u001b[0m \u001b[1;33m\u001b[0m\u001b[0m\n",
      "\u001b[1;31mKeyError\u001b[0m: 'data'"
     ]
    }
   ],
   "source": [
    "from selenium import webdriver\n",
    "from selenium.common.exceptions import TimeoutException\n",
    "from selenium.webdriver.common.keys import Keys\n",
    "from selenium.webdriver.chrome.options import Options\n",
    "from bit_api import *\n",
    "from selenium.webdriver.common.desired_capabilities import DesiredCapabilities\n",
    "from selenium.webdriver.chrome.service import Service\n",
    "from selenium.webdriver.common.by import By\n",
    "from selenium.webdriver.support.ui import WebDriverWait\n",
    "from selenium.webdriver.support import expected_conditions as EC\n",
    "\n",
    "# /browser/open 接口会返回 selenium使用的http地址，以及webdriver的path，直接使用即可\n",
    "id = '2395deaf0bc246808e73be20c0bb650b'\n",
    "res = openBrowser(f\"{id}\")\n",
    "driverPath = res['data']['driver']\n",
    "debuggerAddress = res['data']['http']\n",
    "\n",
    "print(driverPath)\n",
    "print(debuggerAddress)\n",
    "# selenium 连接代码\n",
    "chrome_options = webdriver.ChromeOptions()\n",
    "chrome_options.add_experimental_option(\"debuggerAddress\", debuggerAddress)\n",
    "\n",
    "chrome_service = Service(driverPath)\n",
    "driver = webdriver.Chrome(service=chrome_service, options=chrome_options)\n",
    "\n",
    "\n",
    "# 导航到网页\n",
    "driver.get('https://www.ozon.ru/')\n",
    "time.sleep(10)\n"
   ]
  },
  {
   "cell_type": "code",
   "execution_count": 15,
   "metadata": {},
   "outputs": [],
   "source": [
    "with open ('./ozon.html', 'w') as f:\n",
    "    f.write(driver.page_source)"
   ]
  },
  {
   "cell_type": "code",
   "execution_count": 24,
   "metadata": {},
   "outputs": [
    {
     "name": "stdout",
     "output_type": "stream",
     "text": [
      "switch to frame success\n"
     ]
    }
   ],
   "source": [
    "frame = driver.find_element(By.XPATH,\"/html/body/div[1]/div/div[1]/div/div/iframe\")\n",
    "driver.switch_to.frame(frame)\n",
    "print(\"switch to frame success\")"
   ]
  },
  {
   "cell_type": "code",
   "execution_count": 25,
   "metadata": {},
   "outputs": [],
   "source": [
    "driver.find_element(By.XPATH,\"//*[@id='challenge-stage']/div/label/input\").click()"
   ]
  }
 ],
 "metadata": {
  "kernelspec": {
   "display_name": "Python 3",
   "language": "python",
   "name": "python3"
  },
  "language_info": {
   "codemirror_mode": {
    "name": "ipython",
    "version": 3
   },
   "file_extension": ".py",
   "mimetype": "text/x-python",
   "name": "python",
   "nbconvert_exporter": "python",
   "pygments_lexer": "ipython3",
   "version": "3.7.4"
  },
  "orig_nbformat": 4
 },
 "nbformat": 4,
 "nbformat_minor": 2
}
